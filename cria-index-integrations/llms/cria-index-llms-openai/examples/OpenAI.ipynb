{
 "cells": [
  {
   "cell_type": "code",
   "execution_count": 2,
   "id": "3c60681c-4d6b-4f5e-a1cb-7b494a5a5b9f",
   "metadata": {
    "scrolled": true
   },
   "outputs": [],
   "source": [
    "!pip install cria-llms-openai -q"
   ]
  },
  {
   "cell_type": "code",
   "execution_count": 3,
   "id": "335f3be7-1012-4583-a9fa-71cded074660",
   "metadata": {},
   "outputs": [
    {
     "name": "stdout",
     "output_type": "stream",
     "text": [
      "OpenAI\n"
     ]
    }
   ],
   "source": [
    "from cria_index.llms.openai import OpenAI\n",
    "\n",
    "llm = OpenAI()\n",
    "print(llm.class_name())"
   ]
  },
  {
   "cell_type": "code",
   "execution_count": null,
   "id": "1516d3e4-995d-4d21-a55d-b6561e78ed39",
   "metadata": {},
   "outputs": [],
   "source": []
  }
 ],
 "metadata": {
  "kernelspec": {
   "display_name": "Python 3 (ipykernel)",
   "language": "python",
   "name": "python3"
  },
  "language_info": {
   "codemirror_mode": {
    "name": "ipython",
    "version": 3
   },
   "file_extension": ".py",
   "mimetype": "text/x-python",
   "name": "python",
   "nbconvert_exporter": "python",
   "pygments_lexer": "ipython3",
   "version": "3.10.13"
  }
 },
 "nbformat": 4,
 "nbformat_minor": 5
}
