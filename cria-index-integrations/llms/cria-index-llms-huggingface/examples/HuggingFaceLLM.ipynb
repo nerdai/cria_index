{
 "cells": [
  {
   "cell_type": "code",
   "execution_count": 1,
   "id": "3c60681c-4d6b-4f5e-a1cb-7b494a5a5b9f",
   "metadata": {},
   "outputs": [
    {
     "name": "stdout",
     "output_type": "stream",
     "text": [
      "Collecting cria-llms-huggingface\n",
      "  Downloading cria_llms_huggingface-0.1.0-py3-none-any.whl.metadata (482 bytes)\n",
      "Requirement already satisfied: cria-core<0.2.0,>=0.1.0 in /Users/nerdai/Library/Caches/pypoetry/virtualenvs/cria-llms-huggingface-8rtrVnwX-py3.10/lib/python3.10/site-packages (from cria-llms-huggingface) (0.1.0)\n",
      "Requirement already satisfied: pytest<8.0.0,>=7.4.4 in /Users/nerdai/Library/Caches/pypoetry/virtualenvs/cria-llms-huggingface-8rtrVnwX-py3.10/lib/python3.10/site-packages (from cria-llms-huggingface) (7.4.4)\n",
      "Requirement already satisfied: iniconfig in /Users/nerdai/Library/Caches/pypoetry/virtualenvs/cria-llms-huggingface-8rtrVnwX-py3.10/lib/python3.10/site-packages (from pytest<8.0.0,>=7.4.4->cria-llms-huggingface) (2.0.0)\n",
      "Requirement already satisfied: packaging in /Users/nerdai/Library/Caches/pypoetry/virtualenvs/cria-llms-huggingface-8rtrVnwX-py3.10/lib/python3.10/site-packages (from pytest<8.0.0,>=7.4.4->cria-llms-huggingface) (23.2)\n",
      "Requirement already satisfied: pluggy<2.0,>=0.12 in /Users/nerdai/Library/Caches/pypoetry/virtualenvs/cria-llms-huggingface-8rtrVnwX-py3.10/lib/python3.10/site-packages (from pytest<8.0.0,>=7.4.4->cria-llms-huggingface) (1.3.0)\n",
      "Requirement already satisfied: exceptiongroup>=1.0.0rc8 in /Users/nerdai/Library/Caches/pypoetry/virtualenvs/cria-llms-huggingface-8rtrVnwX-py3.10/lib/python3.10/site-packages (from pytest<8.0.0,>=7.4.4->cria-llms-huggingface) (1.2.0)\n",
      "Requirement already satisfied: tomli>=1.0.0 in /Users/nerdai/Library/Caches/pypoetry/virtualenvs/cria-llms-huggingface-8rtrVnwX-py3.10/lib/python3.10/site-packages (from pytest<8.0.0,>=7.4.4->cria-llms-huggingface) (2.0.1)\n",
      "Downloading cria_llms_huggingface-0.1.0-py3-none-any.whl (1.6 kB)\n",
      "Installing collected packages: cria-llms-huggingface\n",
      "Successfully installed cria-llms-huggingface-0.1.0\n"
     ]
    }
   ],
   "source": [
    "!pip install cria-llms-huggingface"
   ]
  },
  {
   "cell_type": "code",
   "execution_count": 2,
   "id": "335f3be7-1012-4583-a9fa-71cded074660",
   "metadata": {},
   "outputs": [
    {
     "name": "stdout",
     "output_type": "stream",
     "text": [
      "HuggingFaceLLM\n"
     ]
    }
   ],
   "source": [
    "from cria_index.llms.huggingface import HuggingFaceLLM\n",
    "\n",
    "llm = HuggingFaceLLM()\n",
    "print(llm.class_name())"
   ]
  },
  {
   "cell_type": "code",
   "execution_count": null,
   "id": "1516d3e4-995d-4d21-a55d-b6561e78ed39",
   "metadata": {},
   "outputs": [],
   "source": []
  }
 ],
 "metadata": {
  "kernelspec": {
   "display_name": "Python 3 (ipykernel)",
   "language": "python",
   "name": "python3"
  },
  "language_info": {
   "codemirror_mode": {
    "name": "ipython",
    "version": 3
   },
   "file_extension": ".py",
   "mimetype": "text/x-python",
   "name": "python",
   "nbconvert_exporter": "python",
   "pygments_lexer": "ipython3",
   "version": "3.10.13"
  }
 },
 "nbformat": 4,
 "nbformat_minor": 5
}
