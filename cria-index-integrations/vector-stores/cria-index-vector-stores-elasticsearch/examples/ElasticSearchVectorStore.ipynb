{
 "cells": [
  {
   "cell_type": "code",
   "execution_count": 1,
   "id": "06ccf894-8f9d-4e30-9f6a-e4c011fddd3a",
   "metadata": {},
   "outputs": [
    {
     "name": "stdout",
     "output_type": "stream",
     "text": [
      "Collecting cria-vector-stores-elasticsearch\n",
      "  Downloading cria_vector_stores_elasticsearch-0.1.0-py3-none-any.whl.metadata (454 bytes)\n",
      "Requirement already satisfied: cria-core<0.2.0,>=0.1.0 in /Users/nerdai/Library/Caches/pypoetry/virtualenvs/cria-vector-stores-elasticsearch-nMlBNfUi-py3.10/lib/python3.10/site-packages (from cria-vector-stores-elasticsearch) (0.1.0)\n",
      "Requirement already satisfied: pytest<8.0.0,>=7.4.4 in /Users/nerdai/Library/Caches/pypoetry/virtualenvs/cria-vector-stores-elasticsearch-nMlBNfUi-py3.10/lib/python3.10/site-packages (from cria-core<0.2.0,>=0.1.0->cria-vector-stores-elasticsearch) (7.4.4)\n",
      "Requirement already satisfied: iniconfig in /Users/nerdai/Library/Caches/pypoetry/virtualenvs/cria-vector-stores-elasticsearch-nMlBNfUi-py3.10/lib/python3.10/site-packages (from pytest<8.0.0,>=7.4.4->cria-core<0.2.0,>=0.1.0->cria-vector-stores-elasticsearch) (2.0.0)\n",
      "Requirement already satisfied: packaging in /Users/nerdai/Library/Caches/pypoetry/virtualenvs/cria-vector-stores-elasticsearch-nMlBNfUi-py3.10/lib/python3.10/site-packages (from pytest<8.0.0,>=7.4.4->cria-core<0.2.0,>=0.1.0->cria-vector-stores-elasticsearch) (23.2)\n",
      "Requirement already satisfied: pluggy<2.0,>=0.12 in /Users/nerdai/Library/Caches/pypoetry/virtualenvs/cria-vector-stores-elasticsearch-nMlBNfUi-py3.10/lib/python3.10/site-packages (from pytest<8.0.0,>=7.4.4->cria-core<0.2.0,>=0.1.0->cria-vector-stores-elasticsearch) (1.3.0)\n",
      "Requirement already satisfied: exceptiongroup>=1.0.0rc8 in /Users/nerdai/Library/Caches/pypoetry/virtualenvs/cria-vector-stores-elasticsearch-nMlBNfUi-py3.10/lib/python3.10/site-packages (from pytest<8.0.0,>=7.4.4->cria-core<0.2.0,>=0.1.0->cria-vector-stores-elasticsearch) (1.2.0)\n",
      "Requirement already satisfied: tomli>=1.0.0 in /Users/nerdai/Library/Caches/pypoetry/virtualenvs/cria-vector-stores-elasticsearch-nMlBNfUi-py3.10/lib/python3.10/site-packages (from pytest<8.0.0,>=7.4.4->cria-core<0.2.0,>=0.1.0->cria-vector-stores-elasticsearch) (2.0.1)\n",
      "Downloading cria_vector_stores_elasticsearch-0.1.0-py3-none-any.whl (1.7 kB)\n",
      "Installing collected packages: cria-vector-stores-elasticsearch\n",
      "Successfully installed cria-vector-stores-elasticsearch-0.1.0\n"
     ]
    }
   ],
   "source": [
    "!pip install cria-vector-stores-elasticsearch"
   ]
  },
  {
   "cell_type": "code",
   "execution_count": 2,
   "id": "53db261f-7891-42df-b5f6-8b77ec29e39a",
   "metadata": {},
   "outputs": [
    {
     "name": "stdout",
     "output_type": "stream",
     "text": [
      "ElasticSearchVectorStore\n"
     ]
    }
   ],
   "source": [
    "from cria_index.vector_stores.elasticsearch import ElasticSearchVectorStore\n",
    "\n",
    "vs = ElasticSearchVectorStore()\n",
    "print(vs.class_name())"
   ]
  },
  {
   "cell_type": "code",
   "execution_count": null,
   "id": "38103efc-2d27-4eb7-93e9-0301ed64a885",
   "metadata": {},
   "outputs": [],
   "source": []
  }
 ],
 "metadata": {
  "kernelspec": {
   "display_name": "Python 3 (ipykernel)",
   "language": "python",
   "name": "python3"
  },
  "language_info": {
   "codemirror_mode": {
    "name": "ipython",
    "version": 3
   },
   "file_extension": ".py",
   "mimetype": "text/x-python",
   "name": "python",
   "nbconvert_exporter": "python",
   "pygments_lexer": "ipython3",
   "version": "3.10.13"
  }
 },
 "nbformat": 4,
 "nbformat_minor": 5
}
