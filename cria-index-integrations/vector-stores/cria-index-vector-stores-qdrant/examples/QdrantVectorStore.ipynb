{
 "cells": [
  {
   "cell_type": "code",
   "execution_count": null,
   "id": "54fa9789-4231-45c5-b6d3-003c6eb16b08",
   "metadata": {
    "scrolled": true
   },
   "outputs": [],
   "source": [
    "!pip install cria-vector-stores-qdrant"
   ]
  },
  {
   "cell_type": "code",
   "execution_count": 2,
   "id": "2e32aabb-cc2b-49bc-8858-1d16ae953ff5",
   "metadata": {},
   "outputs": [
    {
     "name": "stdout",
     "output_type": "stream",
     "text": [
      "QdrantVectorStore\n"
     ]
    }
   ],
   "source": [
    "from cria_index.vector_stores.qdrant import QdrantVectorStore\n",
    "\n",
    "vs = QdrantVectorStore()\n",
    "print(vs.class_name())"
   ]
  },
  {
   "cell_type": "code",
   "execution_count": null,
   "id": "988ffb0a-52b1-4307-b367-419b9472a30f",
   "metadata": {},
   "outputs": [],
   "source": []
  }
 ],
 "metadata": {
  "kernelspec": {
   "display_name": "Python 3 (ipykernel)",
   "language": "python",
   "name": "python3"
  },
  "language_info": {
   "codemirror_mode": {
    "name": "ipython",
    "version": 3
   },
   "file_extension": ".py",
   "mimetype": "text/x-python",
   "name": "python",
   "nbconvert_exporter": "python",
   "pygments_lexer": "ipython3",
   "version": "3.10.13"
  }
 },
 "nbformat": 4,
 "nbformat_minor": 5
}
